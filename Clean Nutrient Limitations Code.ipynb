{
 "cells": [
  {
   "cell_type": "markdown",
   "metadata": {},
   "source": [
    "### This is a section of code that goes through a file with all of the nutrient limitations given as output in CESM and picks the most limiting nutrient in each cell. It will run when all the limitation files for a year and PFT are in the same nc file, but could also be used for month to month and altered to fit other needs. "
   ]
  },
  {
   "cell_type": "code",
   "execution_count": 1,
   "metadata": {},
   "outputs": [],
   "source": [
    "#all my little modules\n",
    "import xarray as xr\n",
    "import numpy as np\n",
    "import matplotlib.pyplot as plt\n",
    "import xarray as xr\n",
    "import cartopy.crs as ccrs\n",
    "import cartopy.feature as cfeature\n",
    "import cmocean\n",
    "import cartopy.util as util\n",
    "import matplotlib as mpl\n",
    "from glob import glob\n",
    "import pandas as pd\n",
    "from pandas.plotting import register_matplotlib_converters\n",
    "register_matplotlib_converters()\n",
    "%matplotlib inline\n",
    "import scipy.stats as stats\n",
    "\n",
    "mpl.rcParams['figure.figsize'] = [15,6]\n",
    "mpl.rcParams['figure.dpi'] = 150\n",
    "mpl.rcParams['savefig.dpi'] = 200\n",
    "\n",
    "mpl.rcParams['font.size'] = 10\n",
    "mpl.rcParams['legend.fontsize'] = 'large'\n",
    "mpl.rcParams['figure.titlesize'] = 'medium'\n",
    "mpl.rcParams['lines.linewidth']= 2.0\n",
    "mpl.rcParams['xtick.labelsize']=16\n",
    "mpl.rcParams['ytick.labelsize']=16"
   ]
  },
  {
   "cell_type": "code",
   "execution_count": 3,
   "metadata": {},
   "outputs": [],
   "source": [
    "#assumes all limit data is in one nc file named planktondata\n",
    "#planktonstring will be 'diat', 'sp', 'diaz', 'cocco'\n",
    "#this if for diatoms - includes SiO3 - can change code to just not include it for other PFTs, can also add in light for all,\n",
    "#carbon limitation for coccolithophores\n",
    "#use for three degree instead of one degree by changing lines 6 to 8 to 384,320 instead of 116, 100\n",
    "\n",
    "def limiting_factor_diat(planktondata,planktonstring):\n",
    "    P=planktondata[planktonstring+'_P_lim_Cweight_avg_100m'][:,:]\n",
    "    N=planktondata[planktonstring+'_N_lim_Cweight_avg_100m']\n",
    "    S=planktondata[planktonstring+'_SiO3_lim_Cweight_avg_100m'][:,:]\n",
    "    Fe=planktondata[planktonstring+'_Fe_lim_Cweight_avg_100m'][:,:]\n",
    "    limits=np.zeros([116,100])\n",
    "    for lat in range(0,116):\n",
    "        for lon in range(0,100):\n",
    "            var = {np.nanmin(P[0,lat,lon]):\"P\",np.nanmin(S[0,lat,lon]):\"S\",np.nanmin(Fe[0,lat,lon]):\"Fe\",np.nanmin(N[0,lat,lon]):\"N\"}\n",
    "            min_lim = var.get(min(var))\n",
    "            if min_lim == 'P':\n",
    "                limits[lat,lon] =2\n",
    "            if min_lim=='Fe':\n",
    "                limits[lat,lon]=3\n",
    "            if min_lim=='S':\n",
    "                limits[lat,lon]=1\n",
    "            if min_lim=='N':\n",
    "                limits[lat,lon]=4\n",
    "                \n",
    "    return limits"
   ]
  },
  {
   "cell_type": "code",
   "execution_count": 4,
   "metadata": {},
   "outputs": [],
   "source": [
    "#can make a land file to add back in land outlines by using a random year\n",
    "#change shape to 384, 320 if needed\n",
    "#make sure to subtract land from limitation files when displaying plots, as seen below\n",
    "def make_land(year):\n",
    "    land_data = np.zeros([116,100])\n",
    "    land_data[:,:] = np.nan\n",
    "    land_data[(year.KMT)!= 0] = 0 #where the maximum bathymetry depth does not equal zero (land) we write zero\n",
    "    \n",
    "    return land_data"
   ]
  },
  {
   "cell_type": "code",
   "execution_count": null,
   "metadata": {},
   "outputs": [],
   "source": [
    "#data\n",
    "casePath='/glade/campaign/univ/ucnn0026/BGC_spinup/archive/MAA2.1.3_CAM4_POP2_CLM4_RTMEBM_CICE4_SGLC_T31_g37_1850_cocco_ciso_TRENCH_SPINUP_PIavgIC_02_NO3/ocn/hist_1yr_mean/'\n",
    "caseName='MAA2.1.3_CAM4_POP2_CLM4_RTMEBM_CICE4_SGLC_T31_g37_1850_cocco_ciso_TRENCH_SPINUP_PIavgIC_02_NO3'\n",
    "yr_10=xr.open_mfdataset(casePath + caseName+'.pop.h.0010.nc')"
   ]
  },
  {
   "cell_type": "code",
   "execution_count": null,
   "metadata": {},
   "outputs": [],
   "source": [
    "#example land \n",
    "land=make_land(yr_10)"
   ]
  },
  {
   "cell_type": "code",
   "execution_count": null,
   "metadata": {},
   "outputs": [],
   "source": [
    "#example of making the limitation file - I like to save it as a text file at the end in case something happens with my\n",
    "#network connection and I lose previously run years, especially with the one degree files, which take a while to run.\n",
    "#Then you can just load them in again as seen below.\n",
    "lim_10_sp=limiting_factor_NL(yr_10,'sp')\n",
    "np.savetxt('lim_10_sp', lim_10_sp)\n",
    "#works by giving np.savetxt('filenametosave',data)"
   ]
  },
  {
   "cell_type": "code",
   "execution_count": null,
   "metadata": {},
   "outputs": [],
   "source": [
    "#loading text in as arrays\n",
    "#three degree\n",
    "lim10_diat_si=np.loadtxt('lim_diat_10')\n",
    "lim10_diat=np.loadtxt('lim_10_diat')\n",
    "lim10_sp=np.loadtxt('lim_10_sp')\n",
    "#one degree\n",
    "lim20_diat_si=np.loadtxt('lim3_20')\n",
    "lim20_diat=np.loadtxt('lim2_20')\n",
    "lim20_sp=np.loadtxt('lim1_20')"
   ]
  },
  {
   "cell_type": "code",
   "execution_count": null,
   "metadata": {},
   "outputs": [],
   "source": [
    "fig,ax=plt.subplots(2,3)\n",
    "fig.subplots_adjust(wspace=0.1)\n",
    "\n",
    "#levels seperate each value (one through four) assigned to a specific nutrient limitation\n",
    "max_level = 4.5\n",
    "min_level = -0.5\n",
    "step_level = 1\n",
    "\n",
    "#notice how I am subtracting land in the plots - gives land outlines, which are absent in the limitation arrays\n",
    "p0=ax[0,0].contourf(lim10_diat_si-land,levels = np.arange(min_level, max_level + step_level, step_level))\n",
    "ax[0,0].set_title('3x Diatoms w/ Si')\n",
    "# plt.colorbar(p0,ax=ax[0,0]) - can use this to check your colors\n",
    "\n",
    "p1=ax[0,1].contourf(lim10_diat-land,levels = np.arange(min_level, max_level + step_level, step_level))\n",
    "ax[0,1].set_title('3x Diatoms')\n",
    "\n",
    "p2=ax[0,2].contourf(lim10_sp-land,levels = np.arange(min_level, max_level + step_level, step_level))\n",
    "ax[0,2].set_title('3x Small Phytoplankton')\n",
    "\n",
    "#switching land files for a one degree configuration\n",
    "p5=ax[1,0].contourf(lim3_13_new-land1,levels = np.arange(min_level, max_level + step_level, step_level))\n",
    "ax[1,0].set_title('1x Diatoms w/Si')\n",
    "\n",
    "p6=ax[1,1].contourf(lim2_13_new-land1,levels = np.arange(min_level, max_level + step_level, step_level))\n",
    "ax[1,1].set_title('1x Diatoms')\n",
    "\n",
    "ax[1,2].contourf(lim1_13_new-land1,levels = np.arange(min_level, max_level + step_level, step_level))\n",
    "ax[1,2].set_title('1x Small Phytoplankton')\n",
    "\n",
    "\n",
    "ax[0,0].axis('off')\n",
    "ax[0,1].axis('off')\n",
    "ax[0,2].axis('off')\n",
    "ax[1,0].axis('off')\n",
    "ax[1,1].axis('off')\n",
    "ax[1,2].axis('off')\n",
    "\n",
    "plt.suptitle('Green=Fe, Lime=N, Teal=P, Blue=Si',size=20) #I like to give the legend in the title\n",
    "plt.subplots_adjust(top=0.9)"
   ]
  }
 ],
 "metadata": {
  "kernelspec": {
   "display_name": "Python 3",
   "language": "python",
   "name": "python3"
  },
  "language_info": {
   "codemirror_mode": {
    "name": "ipython",
    "version": 3
   },
   "file_extension": ".py",
   "mimetype": "text/x-python",
   "name": "python",
   "nbconvert_exporter": "python",
   "pygments_lexer": "ipython3",
   "version": "3.7.9"
  }
 },
 "nbformat": 4,
 "nbformat_minor": 4
}
